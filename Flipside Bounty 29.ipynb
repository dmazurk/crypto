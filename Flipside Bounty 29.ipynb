{
 "cells": [
  {
   "cell_type": "code",
   "execution_count": 1,
   "id": "c83a2620",
   "metadata": {},
   "outputs": [],
   "source": [
    "import numpy as np\n",
    "import pandas as pd\n",
    "from matplotlib import pyplot as plt\n",
    "import requests\n",
    "import json"
   ]
  },
  {
   "cell_type": "code",
   "execution_count": 36,
   "id": "cb691c7d",
   "metadata": {},
   "outputs": [],
   "source": [
    "url = 'https://api.flipsidecrypto.com/api/v2/queries/814dc5af-7537-4fe2-a560-8e84e2624387/data/latest'\n",
    "response = requests.get(url)\n",
    "df = pd.DataFrame(response.json())"
   ]
  },
  {
   "cell_type": "code",
   "execution_count": 50,
   "id": "76d6947f",
   "metadata": {},
   "outputs": [
    {
     "data": {
      "text/plain": [
       "<AxesSubplot:>"
      ]
     },
     "execution_count": 50,
     "metadata": {},
     "output_type": "execute_result"
    },
    {
     "data": {
      "image/png": "[encoded data removed]",
      "text/plain": [
       "<Figure size 432x288 with 1 Axes>"
      ]
     },
     "metadata": {
      "needs_background": "light"
     },
     "output_type": "display_data"
    }
   ],
   "source": [
    "df[['LIQUIDITY_INCREASES','UNIQUE_POSITIONS', 'UNIQUE_PROVIDERS']].plot.barh()"
   ]
  },
  {
   "cell_type": "markdown",
   "id": "d6efc8c7",
   "metadata": {},
   "source": [
    "### The average liquidity added to the WETH-USDT 300 pool in the last 5 days is:"
   ]
  },
  {
   "cell_type": "code",
   "execution_count": 40,
   "id": "c8cd0cac",
   "metadata": {},
   "outputs": [
    {
     "name": "stdout",
     "output_type": "stream",
     "text": [
      "25175565735.93487\n"
     ]
    }
   ],
   "source": [
    "print(df['AVERAGE_LIQUIDITY'][0])"
   ]
  }
 ],
 "metadata": {
  "kernelspec": {
   "display_name": "Python 3",
   "language": "python",
   "name": "python3"
  },
  "language_info": {
   "codemirror_mode": {
    "name": "ipython",
    "version": 3
   },
   "file_extension": ".py",
   "mimetype": "text/x-python",
   "name": "python",
   "nbconvert_exporter": "python",
   "pygments_lexer": "ipython3",
   "version": "3.9.5"
  }
 },
 "nbformat": 4,
 "nbformat_minor": 5
}
