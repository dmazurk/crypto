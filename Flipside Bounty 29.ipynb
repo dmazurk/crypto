{
 "cells": [
  {
   "cell_type": "code",
   "execution_count": 1,
   "id": "e5ff83e8",
   "metadata": {},
   "outputs": [],
   "source": [
    "import numpy as np\n",
    "import pandas as pd\n",
    "from matplotlib import pyplot as plt\n",
    "import requests\n",
    "import json"
   ]
  },
  {
   "cell_type": "code",
   "execution_count": 36,
   "id": "4cfe079a",
   "metadata": {},
   "outputs": [],
   "source": [
    "url = 'https://api.flipsidecrypto.com/api/v2/queries/814dc5af-7537-4fe2-a560-8e84e2624387/data/latest'\n",
    "response = requests.get(url)\n",
    "df = pd.DataFrame(response.json())"
   ]
  },
  {
   "cell_type": "markdown",
   "id": "4e3e8643",
   "metadata": {},
   "source": [
    "The average liquidity added to the WETH-USDT 300 pool in the last 5 days is:"
   ]
  },
  {
   "cell_type": "code",
   "execution_count": 40,
   "id": "e53e66f4",
   "metadata": {},
   "outputs": [
    {
     "name": "stdout",
     "output_type": "stream",
     "text": [
      "25175565735.93487\n"
     ]
    }
   ],
   "source": [
    "print(df['AVERAGE_LIQUIDITY'][0])"
   ]
  }
 ],
 "metadata": {
  "kernelspec": {
   "display_name": "Python 3",
   "language": "python",
   "name": "python3"
  },
  "language_info": {
   "codemirror_mode": {
    "name": "ipython",
    "version": 3
   },
   "file_extension": ".py",
   "mimetype": "text/x-python",
   "name": "python",
   "nbconvert_exporter": "python",
   "pygments_lexer": "ipython3",
   "version": "3.9.5"
  }
 },
 "nbformat": 4,
 "nbformat_minor": 5
}
